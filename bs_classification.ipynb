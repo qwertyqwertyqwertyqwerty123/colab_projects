{
  "nbformat": 4,
  "nbformat_minor": 0,
  "metadata": {
    "colab": {
      "provenance": [],
      "authorship_tag": "ABX9TyOQi21VkZBk1c7lZA/swxli",
      "include_colab_link": true
    },
    "kernelspec": {
      "name": "python3",
      "display_name": "Python 3"
    },
    "language_info": {
      "name": "python"
    }
  },
  "cells": [
    {
      "cell_type": "markdown",
      "metadata": {
        "id": "view-in-github",
        "colab_type": "text"
      },
      "source": [
        "<a href=\"https://colab.research.google.com/github/qwertyqwertyqwertyqwerty123/colab_projects/blob/main/bs_classification.ipynb\" target=\"_parent\"><img src=\"https://colab.research.google.com/assets/colab-badge.svg\" alt=\"Open In Colab\"/></a>"
      ]
    },
    {
      "cell_type": "markdown",
      "source": [
        "вариант 3 (наивный байес +3_laba_n2)\n"
      ],
      "metadata": {
        "id": "XoKcxMLo63Z3"
      }
    },
    {
      "cell_type": "code",
      "execution_count": null,
      "metadata": {
        "colab": {
          "base_uri": "https://localhost:8080/"
        },
        "id": "wKgFZtTO6L6t",
        "outputId": "4abb8711-02f7-4aef-f1fc-69d89b1e9226"
      },
      "outputs": [
        {
          "output_type": "stream",
          "name": "stdout",
          "text": [
            "Requirement already satisfied: openpyxl in /usr/local/lib/python3.11/dist-packages (3.1.5)\n",
            "Requirement already satisfied: et-xmlfile in /usr/local/lib/python3.11/dist-packages (from openpyxl) (2.0.0)\n",
            "Drive already mounted at /content/drive; to attempt to forcibly remount, call drive.mount(\"/content/drive\", force_remount=True).\n",
            "              precision    recall  f1-score   support\n",
            "\n",
            "         1.0     0.9167    0.9167    0.9167        72\n",
            "         2.0     0.8120    0.8710    0.8405       124\n",
            "         3.0     0.9444    0.8500    0.8947        40\n",
            "         4.0     0.7966    0.7344    0.7642        64\n",
            "\n",
            "    accuracy                         0.8500       300\n",
            "   macro avg     0.8674    0.8430    0.8540       300\n",
            "weighted avg     0.8515    0.8500    0.8497       300\n",
            "\n"
          ]
        },
        {
          "output_type": "stream",
          "name": "stderr",
          "text": [
            "<ipython-input-3-a4dffa7143f3>:19: FutureWarning: DataFrame.applymap has been deprecated. Use DataFrame.map instead.\n",
            "  df = df.applymap(lambda x: float(str(x).replace(',', '.')))\n"
          ]
        }
      ],
      "source": [
        "# Для чтения xls\n",
        "!pip install openpyxl\n",
        "\n",
        "# Подключение к Google Диску\n",
        "from google.colab import drive\n",
        "drive.mount('/content/drive')\n",
        "\n",
        "file_path = '/content/drive/MyDrive/3laba_number_2.xlsx'\n",
        "\n",
        "import pandas as pd\n",
        "import numpy as np\n",
        "from sklearn.model_selection import train_test_split\n",
        "from sklearn.metrics import classification_report\n",
        "\n",
        "# Загрузка и обработка данных\n",
        "df = pd.read_excel(file_path, header=None)\n",
        "df = df.applymap(lambda x: float(str(x).replace(',', '.')))\n",
        "\n",
        "X = df.iloc[:, :2].values\n",
        "y = df.iloc[:, 2].values\n",
        "\n",
        "# Разделение на train и test\n",
        "X_train, X_test, y_train, y_test = train_test_split(X, y, test_size=0.3, random_state=42)\n",
        "\n",
        "# Находим уникальные классы\n",
        "classes = np.unique(y_train)\n",
        "\n",
        "# Вычисляем среднее, дисперсию и априорные вероятности по каждому классу\n",
        "class_stats = {}\n",
        "for c in classes:\n",
        "    X_c = X_train[y_train == c]\n",
        "    mean = X_c.mean(axis=0)\n",
        "    var = X_c.var(axis=0)\n",
        "    prior = X_c.shape[0] / X_train.shape[0]\n",
        "    class_stats[c] = {\"mean\": mean, \"var\": var, \"prior\": prior}\n",
        "\n",
        "# Функция для вычисления вероятности по нормальному распределению\n",
        "def gaussian_pdf(x, mean, var):\n",
        "    eps = 1e-6  # для стабильности\n",
        "    coef = 1.0 / np.sqrt(2 * np.pi * var + eps)\n",
        "    exponent = np.exp(- ((x - mean) ** 2) / (2 * var + eps))\n",
        "    return coef * exponent\n",
        "\n",
        "# Функция для предсказания\n",
        "def predict(X):\n",
        "    preds = []\n",
        "    for x in X:\n",
        "        posteriors = []\n",
        "        for c in classes:\n",
        "            mean = class_stats[c][\"mean\"]\n",
        "            var = class_stats[c][\"var\"]\n",
        "            prior = class_stats[c][\"prior\"]\n",
        "            likelihoods = gaussian_pdf(x, mean, var)\n",
        "            posterior = np.prod(likelihoods) * prior\n",
        "            posteriors.append(posterior)\n",
        "        preds.append(classes[np.argmax(posteriors)])\n",
        "    return np.array(preds)\n",
        "\n",
        "# Предсказание и отчёт\n",
        "y_pred = predict(X_test)\n",
        "print(classification_report(y_test, y_pred, digits=4))\n"
      ]
    },
    {
      "cell_type": "markdown",
      "source": [
        "Таким образом, мы получаем классификацию, в которой наибольшее значение precision и recall наблюдается для 1 класса; наименьшее - для 4-го.\n",
        "\n"
      ],
      "metadata": {
        "id": "IN47J_Tj58Q2"
      }
    },
    {
      "cell_type": "code",
      "source": [],
      "metadata": {
        "id": "T28c4UCS6SmK"
      },
      "execution_count": null,
      "outputs": []
    }
  ]
}