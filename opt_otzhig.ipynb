{
  "nbformat": 4,
  "nbformat_minor": 0,
  "metadata": {
    "colab": {
      "provenance": [],
      "authorship_tag": "ABX9TyN5A950DgRdLpqRARxc14Ir",
      "include_colab_link": true
    },
    "kernelspec": {
      "name": "python3",
      "display_name": "Python 3"
    },
    "language_info": {
      "name": "python"
    }
  },
  "cells": [
    {
      "cell_type": "markdown",
      "metadata": {
        "id": "view-in-github",
        "colab_type": "text"
      },
      "source": [
        "<a href=\"https://colab.research.google.com/github/qwertyqwertyqwertyqwerty123/colab_projects/blob/main/opt_otzhig.ipynb\" target=\"_parent\"><img src=\"https://colab.research.google.com/assets/colab-badge.svg\" alt=\"Open In Colab\"/></a>"
      ]
    },
    {
      "cell_type": "code",
      "execution_count": null,
      "metadata": {
        "colab": {
          "base_uri": "https://localhost:8080/"
        },
        "id": "8bkdQwYpdKDG",
        "outputId": "bc4bfce1-5b15-4a76-81cc-3139398b3d3d"
      },
      "outputs": [
        {
          "output_type": "stream",
          "name": "stdout",
          "text": [
            "Решение отжига: [ 0.88449232 -0.98041504]\n",
            "Значение функции Растригина: 4.339181096362594\n",
            "Решение отжига: [0.02000218 1.05497775]\n",
            "Значение функции Растригина: 1.7829670150979702\n",
            "Решение отжига: [2.08518769 2.22999638]\n",
            "Значение функции Растригина: 19.465922491830213\n",
            "Решение отжига: [-0.01177357 -0.9710029 ]\n",
            "Значение функции Растригина: 1.135849623574913\n",
            "Решение отжига: [ 0.13551941 -2.01516938]\n",
            "Значение функции Растригина: 7.536057512680699\n",
            "\n",
            "Оптимальное решение: [0.99495864 0.99495864]\n",
            "Значение функции в оптимальной точке: 1.9899181141865796\n"
          ]
        }
      ],
      "source": [
        "import numpy as np\n",
        "from scipy.optimize import minimize\n",
        "\n",
        "# Функция Растрыгина\n",
        "def rastrigin(x):\n",
        "    return 10 * len(x) + sum([(xi ** 2 - 10 * np.cos(2 * np.pi * xi)) for xi in x])\n",
        "\n",
        "# Метод отжига для минимизации функции\n",
        "def anneal(rastrigin):\n",
        "    T = 3500  # Начальная температура\n",
        "    M = 300  # Количество итераций на одной температуре\n",
        "    N = 15  # Количество изменений температуры\n",
        "    alpha = 0.85  # Скорость охлаждения\n",
        "\n",
        "    # Инициализация начальной точки\n",
        "    a = np.random.uniform(-5, 5, 2)  # Используем случайные значения с плавающей запятой\n",
        "    a_best = a  # Лучшая точка\n",
        "    counter = 0  # Счетчик изменений температуры\n",
        "\n",
        "    while counter < N:\n",
        "        for i in range(M):\n",
        "            # Генерация нового состояния\n",
        "            a_new = a + np.random.uniform(-1, 1, 2)\n",
        "            del_E = rastrigin(a_new) - rastrigin(a)  # Разница в энергии\n",
        "\n",
        "            # Если новое состояние лучше, принимаем его\n",
        "            if del_E < 0:\n",
        "                a = a_new\n",
        "                if rastrigin(a) < rastrigin(a_best):\n",
        "                    a_best = a\n",
        "            else:\n",
        "                # Иначе принимаем с вероятностью exp(-del_E / T)\n",
        "                if np.random.rand() < np.exp(-del_E / T):\n",
        "                    a = a_new\n",
        "\n",
        "        counter += 1\n",
        "        T *= alpha  # Охлаждение\n",
        "\n",
        "    return a_best\n",
        "\n",
        "# Пример использования метода отжига\n",
        "for _ in range(5):\n",
        "    solution = anneal(rastrigin)\n",
        "    print(f\"Решение отжига: {solution}\")\n",
        "    print(f\"Значение функции Растригина: {rastrigin(solution)}\")\n",
        "\n",
        "# Проверка с использованием scipy.optimize.minimize\n",
        "initial_guess = np.random.uniform(-5, 5, 2)  # Начальная точка\n",
        "\n",
        "# Использование метода минимизации\n",
        "result = minimize(rastrigin, initial_guess, method='Powell')  # Градиентный метод\n",
        "\n",
        "# Результаты\n",
        "print(\"\\nОптимальное решение:\", result.x)\n",
        "print(\"Значение функции в оптимальной точке:\", result.fun)\n"
      ]
    },
    {
      "cell_type": "code",
      "source": [],
      "metadata": {
        "id": "HlMIr9Y8jZfR"
      },
      "execution_count": null,
      "outputs": []
    }
  ]
}