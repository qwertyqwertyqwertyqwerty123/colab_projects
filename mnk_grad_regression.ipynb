{
  "nbformat": 4,
  "nbformat_minor": 0,
  "metadata": {
    "colab": {
      "provenance": [],
      "authorship_tag": "ABX9TyNaGaZdRVA8btcJGbsQ2OVH",
      "include_colab_link": true
    },
    "kernelspec": {
      "name": "python3",
      "display_name": "Python 3"
    },
    "language_info": {
      "name": "python"
    }
  },
  "cells": [
    {
      "cell_type": "markdown",
      "metadata": {
        "id": "view-in-github",
        "colab_type": "text"
      },
      "source": [
        "<a href=\"https://colab.research.google.com/github/qwertyqwertyqwertyqwerty123/colab_projects/blob/main/mnk_grad_regression.ipynb\" target=\"_parent\"><img src=\"https://colab.research.google.com/assets/colab-badge.svg\" alt=\"Open In Colab\"/></a>"
      ]
    },
    {
      "cell_type": "code",
      "execution_count": null,
      "metadata": {
        "colab": {
          "base_uri": "https://localhost:8080/"
        },
        "id": "6C6q-jYZiiPZ",
        "outputId": "dba7fdb7-e001-4b37-e26a-1c9f6f4d7b2d"
      },
      "outputs": [
        {
          "output_type": "stream",
          "name": "stdout",
          "text": [
            "Drive already mounted at /content/drive; to attempt to forcibly remount, call drive.mount(\"/content/drive\", force_remount=True).\n",
            "Коэффициенты регрессии (МНК): [-5.60625504e+03  3.34374526e+00  1.14782847e+02]\n",
            "Коэффициенты регрессии (Градиентный спуск): [7052.9337774  6105.07390737  452.26748208]\n",
            "R^2 (МНК): 0.9106\n",
            "R^2 (Градиентный спуск): 0.6320\n"
          ]
        }
      ],
      "source": [
        "# Импорт библиотек\n",
        "import numpy as np\n",
        "import pandas as pd\n",
        "from sklearn.model_selection import train_test_split\n",
        "from sklearn.preprocessing import StandardScaler\n",
        "\n",
        "# Загрузка csv файла из google drive\n",
        "from google.colab import drive\n",
        "drive.mount('/content/drive')\n",
        "\n",
        "dir_path = \"/content/drive/My Drive/\"\n",
        "\n",
        "# Загрузка данных\n",
        "data = pd.read_csv(dir_path + '3.csv', header=None)\n",
        "\n",
        "X = data.iloc[:, :-1].values  # факторные признаки\n",
        "y = data.iloc[:, -1].values   # результативный признак\n",
        "\n",
        "# Добавление столбца единиц для свободного члена w0\n",
        "X = np.column_stack((np.ones(X.shape[0]), X))\n",
        "\n",
        "# Разделим данные на обучающую и тестовую выборки\n",
        "X_train, X_test, y_train, y_test = train_test_split(X, y, test_size=0.2, random_state=42)\n",
        "\n",
        "# Нормализация данных (с добавлением столбца единиц для свободного члена)\n",
        "scaler = StandardScaler()\n",
        "X_train_scaled = scaler.fit_transform(X_train[:, 1:])  # Нормализуем только признаки\n",
        "X_test_scaled = scaler.transform(X_test[:, 1:])\n",
        "\n",
        "# Добавляем столбец единиц к нормализованным данным\n",
        "X_train_scaled = np.hstack((np.ones((X_train_scaled.shape[0], 1)), X_train_scaled))\n",
        "X_test_scaled = np.hstack((np.ones((X_test_scaled.shape[0], 1)), X_test_scaled))\n",
        "\n",
        "# МНК\n",
        "# 1. Регрессия с использованием МНК\n",
        "def linear_regression_mnk(X, y):\n",
        "    XTX = X.T @ X\n",
        "    if np.linalg.det(XTX) == 0:\n",
        "        XTX_inv = np.linalg.pinv(XTX)\n",
        "    else:\n",
        "        XTX_inv = np.linalg.inv(XTX)\n",
        "    theta = XTX_inv @ X.T @ y\n",
        "    return theta\n",
        "\n",
        "# 2. Регрессия с использованием градиентного спуска с проверкой на NaN и масштабированием\n",
        "def linear_regression_gd(X, y, lr=0.00001, epochs=1000):\n",
        "    m, n = X.shape\n",
        "    theta = np.zeros(n)\n",
        "    for _ in range(epochs):\n",
        "        gradient = (1/m) * (X.T @ (X @ theta - y))\n",
        "        theta -= lr * gradient\n",
        "        if np.any(np.isnan(theta)):\n",
        "            raise ValueError(\"Градиентный спуск не сошелся: найдены NaN значения. Попробуйте уменьшить lr.\")\n",
        "    return theta\n",
        "\n",
        "# 3. Вычисление R^2 (коэффициента детерминации)\n",
        "def r2_score(y_true, y_pred):\n",
        "    ss_res = np.sum((y_true - y_pred) ** 2)\n",
        "    ss_tot = np.sum((y_true - np.mean(y_true)) ** 2)\n",
        "    return 1 - ss_res / ss_tot\n",
        "\n",
        "# Построение моделей\n",
        "# Методом наименьших квадратов\n",
        "theta_mnk = linear_regression_mnk(X_train, y_train)\n",
        "\n",
        "# Методом градиентного спуска\n",
        "theta_gd = linear_regression_gd(X_train_scaled, y_train, lr=0.0001, epochs=10000)\n",
        "\n",
        "# Предсказания на основе тестовых данных\n",
        "y_pred_mnk = X_test @ theta_mnk\n",
        "y_pred_gd = X_test_scaled @ theta_gd\n",
        "\n",
        "# Оценка качества моделей (R^2)\n",
        "r2_mnk = r2_score(y_test, y_pred_mnk)\n",
        "r2_gd = r2_score(y_test, y_pred_gd)\n",
        "\n",
        "print(\"Коэффициенты регрессии (МНК):\", theta_mnk)\n",
        "print(\"Коэффициенты регрессии (Градиентный спуск):\", theta_gd)\n",
        "print(f\"R^2 (МНК): {r2_mnk:.4f}\")\n",
        "print(f\"R^2 (Градиентный спуск): {r2_gd:.4f}\")\n"
      ]
    },
    {
      "cell_type": "markdown",
      "source": [
        "y= -5,61 + 3,34x1 + 1,15x2"
      ],
      "metadata": {
        "id": "ZF-VObm4j2Lz"
      }
    },
    {
      "cell_type": "markdown",
      "source": [
        "y=7052,93 + 6105,07x1 + 452,27x2"
      ],
      "metadata": {
        "id": "xE5P6ZckjtAL"
      }
    }
  ]
}